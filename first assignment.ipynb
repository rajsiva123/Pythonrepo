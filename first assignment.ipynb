{
 "cells": [
  {
   "cell_type": "code",
   "execution_count": 4,
   "metadata": {},
   "outputs": [
    {
     "name": "stdout",
     "output_type": "stream",
     "text": [
      "2016,2051,2086,2121,2156,2191,2226,2261,2296,2331,2366,2401,2436,2471,2506,2541,2576,2611,2646,2681,2716,2751,2786,2821,2856,2891,2926,2961,2996,3031,3066,3101,3136,3171,"
     ]
    }
   ],
   "source": [
    "### Define function for reusuable input\n",
    "def multi(num):\n",
    "    if num%7==0 and num%5==1:\n",
    "        return 1\n",
    "    else:\n",
    "        return 0\n",
    "    \n",
    "### user input data \n",
    "\n",
    "for i in range(2000,3200):\n",
    "    if (multi(i)==1):\n",
    "        print (i, end = ',')"
   ]
  },
  {
   "cell_type": "code",
   "execution_count": 5,
   "metadata": {},
   "outputs": [
    {
     "name": "stdout",
     "output_type": "stream",
     "text": [
      "Enter your first Name :sivarajan\n",
      "Enter your last Name :ayyasamy\n",
      "Hello najaravis ymasayya\n"
     ]
    }
   ],
   "source": [
    "U_Firstname = input (\"Enter your first Name :\")\n",
    "U_Lastname = input (\"Enter your last Name :\")\n",
    "\n",
    "re_ufrstname = U_Firstname[::-1]\n",
    "re_ulastname = U_Lastname[::-1]\n",
    "\n",
    "print (\"Hello\", re_ufrstname, re_ulastname)"
   ]
  },
  {
   "cell_type": "code",
   "execution_count": 6,
   "metadata": {},
   "outputs": [
    {
     "name": "stdout",
     "output_type": "stream",
     "text": [
      "904.7786842338603  is Volume of Sphere\n"
     ]
    }
   ],
   "source": [
    "##Diameter Valaue\n",
    "d=12\n",
    "\n",
    "##Radius Value\n",
    "r=d/2\n",
    "\n",
    "### Assign π Value\n",
    "\n",
    "pi = 3.1415926535897931\n",
    "\n",
    "## Calculate the Volume of the \n",
    "\n",
    "V = 4/3*pi*r**3\n",
    "\n",
    "print (V, \" is Volume of Sphere\")"
   ]
  },
  {
   "cell_type": "code",
   "execution_count": 7,
   "metadata": {},
   "outputs": [
    {
     "name": "stdout",
     "output_type": "stream",
     "text": [
      "Enter Number : 34,56,67,78\n",
      "['34,56,67,78']\n"
     ]
    }
   ],
   "source": [
    "innumber = input (\"Enter Number : \")\n",
    "\n",
    "print ([innumber])"
   ]
  },
  {
   "cell_type": "code",
   "execution_count": 8,
   "metadata": {},
   "outputs": [
    {
     "name": "stdout",
     "output_type": "stream",
     "text": [
      "\n",
      "* \n",
      "* * \n",
      "* * * \n",
      "* * * * \n",
      "* * * * * \n",
      "* * * * \n",
      "* * * \n",
      "* * \n",
      "* \n"
     ]
    }
   ],
   "source": [
    "n=5;\n",
    "for i in range(n):\n",
    "   # print ('* ', end=\"\")\n",
    "    for j in range(i):\n",
    "        print ('* ', end=\"\")\n",
    "    print('')\n",
    "\n",
    "for i in range(n,0,-1):\n",
    "    for j in range(i):\n",
    "        print('* ', end=\"\")\n",
    "    print('')"
   ]
  },
  {
   "cell_type": "code",
   "execution_count": 9,
   "metadata": {},
   "outputs": [
    {
     "name": "stdout",
     "output_type": "stream",
     "text": [
      "Enter the user name :Sivarajan\n",
      "najaraviS\n"
     ]
    }
   ],
   "source": [
    "##input user name\n",
    "\n",
    "username = input (\"Enter the user name :\")\n",
    "Re_UName = username[::-1]\n",
    "\n",
    "print (Re_UName)"
   ]
  },
  {
   "cell_type": "code",
   "execution_count": 10,
   "metadata": {},
   "outputs": [
    {
     "name": "stdout",
     "output_type": "stream",
     "text": [
      "WE, THE PEOPLE OF INDIA, \n",
      "\t having solemnly resolved to constitute India into a SOVEREIGN!, \n",
      "\t\t SOCIALIST, SECULAR, DEMOCRATIC REPUBLIC \n",
      "\t\t and to secure to all its citizens\n"
     ]
    }
   ],
   "source": [
    "print(\"WE, THE PEOPLE OF INDIA, \\n\\t having solemnly resolved to constitute India into a SOVEREIGN!, \\n\\t\\t SOCIALIST, SECULAR, DEMOCRATIC REPUBLIC \\n\\t\\t and to secure to all its citizens\")"
   ]
  },
  {
   "cell_type": "code",
   "execution_count": null,
   "metadata": {},
   "outputs": [],
   "source": []
  }
 ],
 "metadata": {
  "kernelspec": {
   "display_name": "Python 3",
   "language": "python",
   "name": "python3"
  },
  "language_info": {
   "codemirror_mode": {
    "name": "ipython",
    "version": 3
   },
   "file_extension": ".py",
   "mimetype": "text/x-python",
   "name": "python",
   "nbconvert_exporter": "python",
   "pygments_lexer": "ipython3",
   "version": "3.7.4"
  }
 },
 "nbformat": 4,
 "nbformat_minor": 2
}
